{
  "nbformat": 4,
  "nbformat_minor": 0,
  "metadata": {
    "colab": {
      "name": "DataAnonymization.ipynb",
      "provenance": [],
      "authorship_tag": "ABX9TyMIjtjlysAIpsDrFwV/xie5",
      "include_colab_link": true
    },
    "kernelspec": {
      "name": "python3",
      "display_name": "Python 3"
    },
    "language_info": {
      "name": "python"
    }
  },
  "cells": [
    {
      "cell_type": "markdown",
      "metadata": {
        "id": "view-in-github",
        "colab_type": "text"
      },
      "source": [
        "<a href=\"https://colab.research.google.com/github/anmolg1997/NLP_ShortProjects/blob/main/DataAnonymization.ipynb\" target=\"_parent\"><img src=\"https://colab.research.google.com/assets/colab-badge.svg\" alt=\"Open In Colab\"/></a>"
      ]
    },
    {
      "cell_type": "markdown",
      "metadata": {
        "id": "ZQOMx8ui8vDO"
      },
      "source": [
        "*This is one practical application of NER systems* -- **Anonymization of data** and **redacting personally indentifying information**.\n",
        "\n",
        "1. In many scenarios, we want to withheld sensitive information such as names of persons in various confidential information.\n",
        "2. We can use NER methods to automatically identify PERSONS in text and remove PERSON names from text. We take an example email from Enron e-mail dataset for ilustration.\n",
        "\n",
        "E-mail source: http://www.enron-mail.com/email/lay-k/elizabeth/Christmas_in_Aspen_4.html\n",
        "\n",
        "Complete Enron data: http://www.enron-mail.com/"
      ]
    },
    {
      "cell_type": "code",
      "metadata": {
        "id": "hOjMESwV8j1B"
      },
      "source": [
        "email = ('Dear Family, Jose Luis and I have changed our dates, we are '\n",
        "         'going to come to Aspen on the 23rd of December and leave on the '\n",
        "         '30th of December. We would like to stay in the front bedroom of '\n",
        "         'the Aspen Cottage so that Mark, Natalie and Zachary can stay in '\n",
        "         'the guest cottage. Please let me know if there are any problems '\n",
        "         'with this. If I do not hear anything, I will assume this is all '\n",
        "         'o.k. with you.'\n",
        "         'Love, Liz')\n"
      ],
      "execution_count": 20,
      "outputs": []
    },
    {
      "cell_type": "markdown",
      "metadata": {
        "id": "ZxZWEnpu9mCK"
      },
      "source": [
        "**Importing libraries**"
      ]
    },
    {
      "cell_type": "code",
      "metadata": {
        "id": "V3q5WR7J9Rz7"
      },
      "source": [
        "import spacy"
      ],
      "execution_count": 21,
      "outputs": []
    },
    {
      "cell_type": "markdown",
      "metadata": {
        "id": "LgufxinQ9tfU"
      },
      "source": [
        "**Loading pre trained model**"
      ]
    },
    {
      "cell_type": "code",
      "metadata": {
        "id": "I4ZlbHO59aXJ"
      },
      "source": [
        "model = spacy.load('en_core_web_sm')"
      ],
      "execution_count": 22,
      "outputs": []
    },
    {
      "cell_type": "markdown",
      "metadata": {
        "id": "KovmQG8699BH"
      },
      "source": [
        "**Apply spacy's model to process the email**"
      ]
    },
    {
      "cell_type": "code",
      "metadata": {
        "id": "Qeyx6yNO916w"
      },
      "source": [
        "processed_email  = model(email)"
      ],
      "execution_count": 23,
      "outputs": []
    },
    {
      "cell_type": "markdown",
      "metadata": {
        "id": "5api_uqcAzoM"
      },
      "source": [
        "**Identifying Person Entities**"
      ]
    },
    {
      "cell_type": "code",
      "metadata": {
        "colab": {
          "base_uri": "https://localhost:8080/"
        },
        "id": "fS7DiCNrA33H",
        "outputId": "0a6eaac4-d4cf-4db0-e58c-b424665daad2"
      },
      "source": [
        "for ent in processed_email.ents:\n",
        "  if ent.label_ == 'PERSON':\n",
        "    print(ent.text,\"--\",ent.start_char,\"--\",ent.end_char,\"--\",ent.label_)"
      ],
      "execution_count": 24,
      "outputs": [
        {
          "output_type": "stream",
          "name": "stdout",
          "text": [
            "Dear Family -- 0 -- 11 -- PERSON\n",
            "Jose Luis -- 13 -- 22 -- PERSON\n",
            "Aspen -- 77 -- 82 -- PERSON\n",
            "Mark -- 214 -- 218 -- PERSON\n",
            "Natalie -- 220 -- 227 -- PERSON\n",
            "Zachary -- 232 -- 239 -- PERSON\n",
            "Liz -- 400 -- 403 -- PERSON\n"
          ]
        }
      ]
    },
    {
      "cell_type": "markdown",
      "metadata": {
        "id": "rtrKeeSw-VKp"
      },
      "source": [
        "**Anonymization of data when entity is PERSON**"
      ]
    },
    {
      "cell_type": "code",
      "metadata": {
        "colab": {
          "base_uri": "https://localhost:8080/",
          "height": 137
        },
        "id": "AfId-ovp-E37",
        "outputId": "257107cc-75b3-4279-86a6-eea37d9055ad"
      },
      "source": [
        "# intialize data structure to store anonymized email\n",
        "anonymized_email = list(email)\n",
        "\n",
        "for ent in processed_email.ents:\n",
        "  if ent.label_ == \"PERSON\": # if the word corresponds to a PERSON entity\n",
        "    for char in range(ent.start_char , ent.end_char): # use character positions\n",
        "      anonymized_email[char] = '*'\n",
        "\n",
        "print('\"\\n\\n -- After Anonymization -- \\n')\n",
        "\n",
        "\"\".join(anonymized_email)"
      ],
      "execution_count": 25,
      "outputs": [
        {
          "output_type": "stream",
          "name": "stdout",
          "text": [
            "\"\n",
            "\n",
            " -- After Anonymization -- \n",
            "\n"
          ]
        },
        {
          "output_type": "execute_result",
          "data": {
            "application/vnd.google.colaboratory.intrinsic+json": {
              "type": "string"
            },
            "text/plain": [
              "'***********, ********* and I have changed our dates, we are going to come to ***** on the 23rd of December and leave on the 30th of December. We would like to stay in the front bedroom of the Aspen Cottage so that ****, ******* and ******* can stay in the guest cottage. Please let me know if there are any problems with this. If I do not hear anything, I will assume this is all o.k. with you.Love, ***'"
            ]
          },
          "metadata": {},
          "execution_count": 25
        }
      ]
    },
    {
      "cell_type": "code",
      "metadata": {
        "id": "SIJieHv5-pyo"
      },
      "source": [
        ""
      ],
      "execution_count": 25,
      "outputs": []
    }
  ]
}
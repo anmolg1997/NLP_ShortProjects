{
  "nbformat": 4,
  "nbformat_minor": 0,
  "metadata": {
    "colab": {
      "name": "ActivePassiveChecker.ipynb",
      "provenance": [],
      "authorship_tag": "ABX9TyNQs+XJAYHJ79lOF6av4gyP",
      "include_colab_link": true
    },
    "kernelspec": {
      "name": "python3",
      "display_name": "Python 3"
    },
    "language_info": {
      "name": "python"
    }
  },
  "cells": [
    {
      "cell_type": "markdown",
      "metadata": {
        "id": "view-in-github",
        "colab_type": "text"
      },
      "source": [
        "<a href=\"https://colab.research.google.com/github/anmolg1997/NLP_ShortProjects/blob/main/ActivePassiveChecker.ipynb\" target=\"_parent\"><img src=\"https://colab.research.google.com/assets/colab-badge.svg\" alt=\"Open In Colab\"/></a>"
      ]
    },
    {
      "cell_type": "code",
      "metadata": {
        "id": "P54ZSOoiyE6Y"
      },
      "source": [
        "import spacy\n",
        "from spacy import displacy\n",
        "from spacy.matcher import Matcher\n",
        "\n",
        "import pandas as pd\n",
        "import seaborn as sns"
      ],
      "execution_count": null,
      "outputs": []
    },
    {
      "cell_type": "code",
      "metadata": {
        "id": "IVn1mD_RzAJn"
      },
      "source": [
        "nlp = spacy.load('en_core_web_sm')"
      ],
      "execution_count": null,
      "outputs": []
    },
    {
      "cell_type": "code",
      "metadata": {
        "colab": {
          "base_uri": "https://localhost:8080/"
        },
        "id": "YgCrgKNtzGlo",
        "outputId": "c842ae5b-a8ab-4c11-f7f6-fbcd4e15c064"
      },
      "source": [
        "## Reading the given dataset\n",
        "from google.colab import drive\n",
        "drive.mount('/content/drive')"
      ],
      "execution_count": null,
      "outputs": [
        {
          "output_type": "stream",
          "name": "stdout",
          "text": [
            "Mounted at /content/drive\n"
          ]
        }
      ]
    },
    {
      "cell_type": "code",
      "metadata": {
        "id": "rWEyJFdgzeEr"
      },
      "source": [
        "data = pd.read_csv('drive/MyDrive/Colab Notebooks/NLP/P2 ActivePassive Checker/ActivePassive.csv', sep = \",\")"
      ],
      "execution_count": null,
      "outputs": []
    },
    {
      "cell_type": "code",
      "metadata": {
        "colab": {
          "base_uri": "https://localhost:8080/",
          "height": 204
        },
        "id": "5sFWGU5fz5Pw",
        "outputId": "60840c3c-169a-450e-f3d1-ab7cc8e3e2c2"
      },
      "source": [
        "data.head()"
      ],
      "execution_count": null,
      "outputs": [
        {
          "output_type": "execute_result",
          "data": {
            "text/html": [
              "<div>\n",
              "<style scoped>\n",
              "    .dataframe tbody tr th:only-of-type {\n",
              "        vertical-align: middle;\n",
              "    }\n",
              "\n",
              "    .dataframe tbody tr th {\n",
              "        vertical-align: top;\n",
              "    }\n",
              "\n",
              "    .dataframe thead th {\n",
              "        text-align: right;\n",
              "    }\n",
              "</style>\n",
              "<table border=\"1\" class=\"dataframe\">\n",
              "  <thead>\n",
              "    <tr style=\"text-align: right;\">\n",
              "      <th></th>\n",
              "      <th>Active</th>\n",
              "      <th>Passive</th>\n",
              "    </tr>\n",
              "  </thead>\n",
              "  <tbody>\n",
              "    <tr>\n",
              "      <th>0</th>\n",
              "      <td>He reads a novel.</td>\n",
              "      <td>A novel is read.</td>\n",
              "    </tr>\n",
              "    <tr>\n",
              "      <th>1</th>\n",
              "      <td>He does not cook food.</td>\n",
              "      <td>Food is not cooked by him.</td>\n",
              "    </tr>\n",
              "    <tr>\n",
              "      <th>2</th>\n",
              "      <td>Does he purchase books?</td>\n",
              "      <td>Are books being purchased by him?</td>\n",
              "    </tr>\n",
              "    <tr>\n",
              "      <th>3</th>\n",
              "      <td>They grow plants.</td>\n",
              "      <td>Plants are grown by them.</td>\n",
              "    </tr>\n",
              "    <tr>\n",
              "      <th>4</th>\n",
              "      <td>She teaches me.</td>\n",
              "      <td>I am taught by her.</td>\n",
              "    </tr>\n",
              "  </tbody>\n",
              "</table>\n",
              "</div>"
            ],
            "text/plain": [
              "                    Active                            Passive\n",
              "0        He reads a novel.                   A novel is read.\n",
              "1   He does not cook food.         Food is not cooked by him.\n",
              "2  Does he purchase books?  Are books being purchased by him?\n",
              "3        They grow plants.          Plants are grown by them.\n",
              "4          She teaches me.                I am taught by her."
            ]
          },
          "metadata": {},
          "execution_count": 16
        }
      ]
    },
    {
      "cell_type": "code",
      "metadata": {
        "colab": {
          "base_uri": "https://localhost:8080/"
        },
        "id": "AHnDTP1U04Om",
        "outputId": "9487ff63-9026-4af4-d4e5-4c848a2501c5"
      },
      "source": [
        "data.shape"
      ],
      "execution_count": null,
      "outputs": [
        {
          "output_type": "execute_result",
          "data": {
            "text/plain": [
              "(40, 2)"
            ]
          },
          "metadata": {},
          "execution_count": 20
        }
      ]
    },
    {
      "cell_type": "code",
      "metadata": {
        "id": "zrh7-1fNz-8n"
      },
      "source": [
        "active = data.Active\n",
        "passive = data.Passive"
      ],
      "execution_count": null,
      "outputs": []
    },
    {
      "cell_type": "markdown",
      "metadata": {
        "id": "JKDQtzCe09Be"
      },
      "source": [
        "**Create the rule**"
      ]
    },
    {
      "cell_type": "code",
      "metadata": {
        "id": "DdkSdtlh0lYl"
      },
      "source": [
        "passive_rule = [{'DEP': 'nsubjpass'}]\n",
        "matcher = Matcher(nlp.vocab)\n",
        "matcher.add('Rule',[passive_rule])"
      ],
      "execution_count": null,
      "outputs": []
    },
    {
      "cell_type": "code",
      "metadata": {
        "id": "9TaiVPlj1WlW"
      },
      "source": [
        "def is_passive(doc,matcher):\n",
        "  if len(matcher(doc))>0:\n",
        "    return True\n",
        "  else:\n",
        "    return False"
      ],
      "execution_count": null,
      "outputs": []
    },
    {
      "cell_type": "markdown",
      "metadata": {
        "id": "XDBMKzbL1pPY"
      },
      "source": [
        "**Check rule on active voice sentences**"
      ]
    },
    {
      "cell_type": "code",
      "metadata": {
        "colab": {
          "base_uri": "https://localhost:8080/"
        },
        "id": "ck6V3eM41lgN",
        "outputId": "f1ad5862-7661-41cb-d523-0d19dba1eb4c"
      },
      "source": [
        "cnt = 0\n",
        "for sent in active:\n",
        "  doc = nlp(sent)\n",
        "  if not is_passive(doc,matcher):\n",
        "    cnt+=1\n",
        "print(cnt)"
      ],
      "execution_count": null,
      "outputs": [
        {
          "output_type": "stream",
          "name": "stdout",
          "text": [
            "40\n"
          ]
        }
      ]
    },
    {
      "cell_type": "markdown",
      "metadata": {
        "id": "kUL3AodS2NBu"
      },
      "source": [
        "**Check rule on passive voice sentences**"
      ]
    },
    {
      "cell_type": "code",
      "metadata": {
        "colab": {
          "base_uri": "https://localhost:8080/"
        },
        "id": "zmFuhtw42JZJ",
        "outputId": "63933765-f729-49be-ab0e-66beb8489fad"
      },
      "source": [
        "cnt = 0\n",
        "for sent in passive:\n",
        "  doc = nlp(sent)\n",
        "  if is_passive(doc,matcher):\n",
        "    cnt+=1\n",
        "print(cnt)"
      ],
      "execution_count": null,
      "outputs": [
        {
          "output_type": "stream",
          "name": "stdout",
          "text": [
            "40\n"
          ]
        }
      ]
    },
    {
      "cell_type": "markdown",
      "metadata": {
        "id": "7AV-ATlG96dR"
      },
      "source": [
        "Let's troubleshoot"
      ]
    },
    {
      "cell_type": "code",
      "metadata": {
        "colab": {
          "base_uri": "https://localhost:8080/"
        },
        "id": "Rd_zQG1w2T4X",
        "outputId": "b6c721d6-e06e-4fb3-cc6d-839c2a36e665"
      },
      "source": [
        "cnt = 0\n",
        "missed = []\n",
        "for sent in passive:\n",
        "    doc = nlp(sent)\n",
        "    if is_passive(doc,matcher):\n",
        "        cnt += 1\n",
        "    else:\n",
        "        missed.append(doc)\n",
        "print(cnt)"
      ],
      "execution_count": null,
      "outputs": [
        {
          "output_type": "stream",
          "name": "stdout",
          "text": [
            "40\n"
          ]
        }
      ]
    },
    {
      "cell_type": "code",
      "metadata": {
        "colab": {
          "base_uri": "https://localhost:8080/"
        },
        "id": "aBTAIBym7Trx",
        "outputId": "74480671-73e6-492b-b5dd-b58249fed089"
      },
      "source": [
        "missed"
      ],
      "execution_count": null,
      "outputs": [
        {
          "output_type": "execute_result",
          "data": {
            "text/plain": [
              "[]"
            ]
          },
          "metadata": {},
          "execution_count": 44
        }
      ]
    },
    {
      "cell_type": "markdown",
      "metadata": {
        "id": "R0WnooTa-Ngl"
      },
      "source": [
        "**Let's visualize their dependency trees**"
      ]
    },
    {
      "cell_type": "code",
      "metadata": {
        "id": "dn-GUJUm8tL6"
      },
      "source": [
        "for doc in missed:\n",
        "    displacy.render(doc, style=\"dep\", jupyter = True)"
      ],
      "execution_count": null,
      "outputs": []
    },
    {
      "cell_type": "code",
      "metadata": {
        "colab": {
          "base_uri": "https://localhost:8080/",
          "height": 35
        },
        "id": "xA3-znEe-TkY",
        "outputId": "b5f82669-1f9b-45ae-d29b-0669cb65739d"
      },
      "source": [
        "spacy.explain(\"auxpass\")"
      ],
      "execution_count": null,
      "outputs": [
        {
          "output_type": "execute_result",
          "data": {
            "application/vnd.google.colaboratory.intrinsic+json": {
              "type": "string"
            },
            "text/plain": [
              "'auxiliary (passive)'"
            ]
          },
          "metadata": {},
          "execution_count": 46
        }
      ]
    },
    {
      "cell_type": "markdown",
      "metadata": {
        "id": "uikR6ZYZ-bkE"
      },
      "source": [
        "\n",
        "[Dependencies](https://universaldependencies.org/docs/en/dep/)"
      ]
    },
    {
      "cell_type": "markdown",
      "metadata": {
        "id": "_ZjrA-xy-ir5"
      },
      "source": [
        "Update our rule"
      ]
    },
    {
      "cell_type": "markdown",
      "metadata": {
        "id": "3icoX8aG-njC"
      },
      "source": [
        "**[Reference](https://spacy.io/usage/rule-based-matching)**"
      ]
    },
    {
      "cell_type": "code",
      "metadata": {
        "id": "OJ514xXz-Xqc"
      },
      "source": [
        "passive_rule = [{'DEP':{\"IN\":['nsubjpass','auxpass']}}]\n",
        "matcher = Matcher(nlp.vocab)\n",
        "matcher.add('Rule',[passive_rule])"
      ],
      "execution_count": null,
      "outputs": []
    },
    {
      "cell_type": "code",
      "metadata": {
        "colab": {
          "base_uri": "https://localhost:8080/"
        },
        "id": "RwzasYLT-vRk",
        "outputId": "88f5559f-9a0e-4bb1-db78-1da879395119"
      },
      "source": [
        "cnt = 0\n",
        "for sent in active:\n",
        "    doc = nlp(sent)\n",
        "    if not is_passive(doc,matcher):\n",
        "        cnt += 1\n",
        "print(cnt)"
      ],
      "execution_count": null,
      "outputs": [
        {
          "output_type": "stream",
          "name": "stdout",
          "text": [
            "40\n"
          ]
        }
      ]
    },
    {
      "cell_type": "code",
      "metadata": {
        "colab": {
          "base_uri": "https://localhost:8080/"
        },
        "id": "gYHjRPSA-yHm",
        "outputId": "010dc4b4-27a5-4231-b6e4-4d5726d156f9"
      },
      "source": [
        "cnt = 0\n",
        "missed = []\n",
        "for sent in passive:\n",
        "    doc = nlp(sent)\n",
        "    if is_passive(doc,matcher):\n",
        "        cnt += 1\n",
        "    else:\n",
        "        missed.append(doc)\n",
        "print(cnt)"
      ],
      "execution_count": null,
      "outputs": [
        {
          "output_type": "stream",
          "name": "stdout",
          "text": [
            "40\n"
          ]
        }
      ]
    },
    {
      "cell_type": "markdown",
      "metadata": {
        "id": "edrzH97--4hg"
      },
      "source": [
        "**Summary**\n",
        "1. Always test your rules and hueristics on a larger corpus to see the effectiveness of the rules\n",
        "2. One can write intricate matching rules using matcher object"
      ]
    },
    {
      "cell_type": "code",
      "metadata": {
        "id": "d4ZIzRAq-1Fs"
      },
      "source": [
        ""
      ],
      "execution_count": null,
      "outputs": []
    }
  ]
}